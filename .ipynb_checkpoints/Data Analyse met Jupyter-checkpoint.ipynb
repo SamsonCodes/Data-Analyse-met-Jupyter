{
 "cells": [
  {
   "cell_type": "markdown",
   "metadata": {},
   "source": [
    "# Data Analyse met Jupyter"
   ]
  },
  {
   "cell_type": "markdown",
   "metadata": {},
   "source": [
    "### Importeren libraries\n",
    "Libraries stellen ons in staat om functies en objecten te gebruiken van anderen die verder bouwen op de basis functies van Python. Er zijn libraries voor praktisch alles wat je maar kan bedenken, maar wij zijn vooral geinteresseerd in de volgende twee."
   ]
  },
  {
   "cell_type": "code",
   "execution_count": 1,
   "metadata": {},
   "outputs": [],
   "source": [
    "# Gebruik een hekje om een opmerking in te voeren die genegeerd wordt bij het runnen van de cel.\n",
    "\n",
    "import numpy as np # Voor rekenen met matrices en arrays\n",
    "import pandas as pd # Voor data analyse, bouwt verder op numpy"
   ]
  },
  {
   "cell_type": "markdown",
   "metadata": {},
   "source": [
    "### Data Laden\n",
    "Als je je dataset in een csv in de folder van je Notebook hebt staan dan is het laden van je dataset zo gepiept. Natuurlijk is dit niet de enige manier om een dataset te laden, maar wel een veel voorkomende die voor deze tutorial zal voldoen."
   ]
  },
  {
   "cell_type": "code",
   "execution_count": 2,
   "metadata": {
    "scrolled": false
   },
   "outputs": [
    {
     "data": {
      "text/html": [
       "<div>\n",
       "<style scoped>\n",
       "    .dataframe tbody tr th:only-of-type {\n",
       "        vertical-align: middle;\n",
       "    }\n",
       "\n",
       "    .dataframe tbody tr th {\n",
       "        vertical-align: top;\n",
       "    }\n",
       "\n",
       "    .dataframe thead th {\n",
       "        text-align: right;\n",
       "    }\n",
       "</style>\n",
       "<table border=\"1\" class=\"dataframe\">\n",
       "  <thead>\n",
       "    <tr style=\"text-align: right;\">\n",
       "      <th></th>\n",
       "      <th>sepal.length</th>\n",
       "      <th>sepal.width</th>\n",
       "      <th>petal.length</th>\n",
       "      <th>petal.width</th>\n",
       "      <th>variety</th>\n",
       "    </tr>\n",
       "  </thead>\n",
       "  <tbody>\n",
       "    <tr>\n",
       "      <th>0</th>\n",
       "      <td>5.1</td>\n",
       "      <td>3.5</td>\n",
       "      <td>1.4</td>\n",
       "      <td>0.2</td>\n",
       "      <td>Setosa</td>\n",
       "    </tr>\n",
       "    <tr>\n",
       "      <th>1</th>\n",
       "      <td>4.9</td>\n",
       "      <td>3.0</td>\n",
       "      <td>1.4</td>\n",
       "      <td>0.2</td>\n",
       "      <td>Setosa</td>\n",
       "    </tr>\n",
       "    <tr>\n",
       "      <th>2</th>\n",
       "      <td>4.7</td>\n",
       "      <td>3.2</td>\n",
       "      <td>1.3</td>\n",
       "      <td>0.2</td>\n",
       "      <td>Setosa</td>\n",
       "    </tr>\n",
       "    <tr>\n",
       "      <th>3</th>\n",
       "      <td>4.6</td>\n",
       "      <td>3.1</td>\n",
       "      <td>1.5</td>\n",
       "      <td>0.2</td>\n",
       "      <td>Setosa</td>\n",
       "    </tr>\n",
       "    <tr>\n",
       "      <th>4</th>\n",
       "      <td>5.0</td>\n",
       "      <td>3.6</td>\n",
       "      <td>1.4</td>\n",
       "      <td>0.2</td>\n",
       "      <td>Setosa</td>\n",
       "    </tr>\n",
       "  </tbody>\n",
       "</table>\n",
       "</div>"
      ],
      "text/plain": [
       "   sepal.length  sepal.width  petal.length  petal.width variety\n",
       "0           5.1          3.5           1.4          0.2  Setosa\n",
       "1           4.9          3.0           1.4          0.2  Setosa\n",
       "2           4.7          3.2           1.3          0.2  Setosa\n",
       "3           4.6          3.1           1.5          0.2  Setosa\n",
       "4           5.0          3.6           1.4          0.2  Setosa"
      ]
     },
     "execution_count": 2,
     "metadata": {},
     "output_type": "execute_result"
    }
   ],
   "source": [
    "df = pd.read_csv('iris.csv') # Laad het bestand 'iris.csv' met de 'read_csv' functie van pandas (pd)\n",
    "df.head() # Bekijk de eerste 5 rijen, een goede gewoonte voor controle"
   ]
  },
  {
   "cell_type": "markdown",
   "metadata": {},
   "source": [
    "We hebben nu onze dataset geladen en er een DataFrame object van gemaakt genaamd df. Nu kunnen we de functies van Pandas gebruiken op df om de data analyseren. \n",
    "\n",
    "Deze dataset bevat zo te zien 5 kolommen met informatie over een aantal bloemen. Maar wat kunnen we nog meer te weten komen?"
   ]
  },
  {
   "cell_type": "markdown",
   "metadata": {},
   "source": [
    "### Data Analyse\n",
    "Okè, data geladen, wat nu? Nou laten we eerst eens kijken welke vorm onze dataset heeft."
   ]
  },
  {
   "cell_type": "code",
   "execution_count": 3,
   "metadata": {
    "scrolled": true
   },
   "outputs": [
    {
     "data": {
      "text/plain": [
       "(150, 5)"
      ]
     },
     "execution_count": 3,
     "metadata": {},
     "output_type": "execute_result"
    }
   ],
   "source": [
    "df.shape # De vorm van de dataset"
   ]
  },
  {
   "cell_type": "markdown",
   "metadata": {},
   "source": [
    "Dit keer gebruiken we geen haakjes, zoals bij *head()*, want *shape* is een attribuut, geen functie.\n",
    "\n",
    "Onze dataset heeft blijkbaar 150 rijen en, zoals we al wisten, 5 kolommen. We hebben al gezien hoe de eerste 5 rijen er uitzien, maar wat kunnen we te weten komen over de dataset als geheel? Wat zijn bijvoorbeeld de gemiddelde waarden van de getallen in onze kolommen?"
   ]
  },
  {
   "cell_type": "code",
   "execution_count": 4,
   "metadata": {
    "scrolled": true
   },
   "outputs": [
    {
     "data": {
      "text/plain": [
       "sepal.length    5.843333\n",
       "sepal.width     3.057333\n",
       "petal.length    3.758000\n",
       "petal.width     1.199333\n",
       "dtype: float64"
      ]
     },
     "execution_count": 4,
     "metadata": {},
     "output_type": "execute_result"
    }
   ],
   "source": [
    "df.mean() # De gemiddelde waarde van de numerieke kolommen."
   ]
  },
  {
   "cell_type": "markdown",
   "metadata": {},
   "source": [
    "Geweldig! Maar gemiddelden zijn niet de enige nuttige statische gegevens. Met de *describe()* functie kunnen we een hoop meer te weten komen."
   ]
  },
  {
   "cell_type": "code",
   "execution_count": 5,
   "metadata": {},
   "outputs": [
    {
     "data": {
      "text/html": [
       "<div>\n",
       "<style scoped>\n",
       "    .dataframe tbody tr th:only-of-type {\n",
       "        vertical-align: middle;\n",
       "    }\n",
       "\n",
       "    .dataframe tbody tr th {\n",
       "        vertical-align: top;\n",
       "    }\n",
       "\n",
       "    .dataframe thead th {\n",
       "        text-align: right;\n",
       "    }\n",
       "</style>\n",
       "<table border=\"1\" class=\"dataframe\">\n",
       "  <thead>\n",
       "    <tr style=\"text-align: right;\">\n",
       "      <th></th>\n",
       "      <th>sepal.length</th>\n",
       "      <th>sepal.width</th>\n",
       "      <th>petal.length</th>\n",
       "      <th>petal.width</th>\n",
       "    </tr>\n",
       "  </thead>\n",
       "  <tbody>\n",
       "    <tr>\n",
       "      <th>count</th>\n",
       "      <td>150.000000</td>\n",
       "      <td>150.000000</td>\n",
       "      <td>150.000000</td>\n",
       "      <td>150.000000</td>\n",
       "    </tr>\n",
       "    <tr>\n",
       "      <th>mean</th>\n",
       "      <td>5.843333</td>\n",
       "      <td>3.057333</td>\n",
       "      <td>3.758000</td>\n",
       "      <td>1.199333</td>\n",
       "    </tr>\n",
       "    <tr>\n",
       "      <th>std</th>\n",
       "      <td>0.828066</td>\n",
       "      <td>0.435866</td>\n",
       "      <td>1.765298</td>\n",
       "      <td>0.762238</td>\n",
       "    </tr>\n",
       "    <tr>\n",
       "      <th>min</th>\n",
       "      <td>4.300000</td>\n",
       "      <td>2.000000</td>\n",
       "      <td>1.000000</td>\n",
       "      <td>0.100000</td>\n",
       "    </tr>\n",
       "    <tr>\n",
       "      <th>25%</th>\n",
       "      <td>5.100000</td>\n",
       "      <td>2.800000</td>\n",
       "      <td>1.600000</td>\n",
       "      <td>0.300000</td>\n",
       "    </tr>\n",
       "    <tr>\n",
       "      <th>50%</th>\n",
       "      <td>5.800000</td>\n",
       "      <td>3.000000</td>\n",
       "      <td>4.350000</td>\n",
       "      <td>1.300000</td>\n",
       "    </tr>\n",
       "    <tr>\n",
       "      <th>75%</th>\n",
       "      <td>6.400000</td>\n",
       "      <td>3.300000</td>\n",
       "      <td>5.100000</td>\n",
       "      <td>1.800000</td>\n",
       "    </tr>\n",
       "    <tr>\n",
       "      <th>max</th>\n",
       "      <td>7.900000</td>\n",
       "      <td>4.400000</td>\n",
       "      <td>6.900000</td>\n",
       "      <td>2.500000</td>\n",
       "    </tr>\n",
       "  </tbody>\n",
       "</table>\n",
       "</div>"
      ],
      "text/plain": [
       "       sepal.length  sepal.width  petal.length  petal.width\n",
       "count    150.000000   150.000000    150.000000   150.000000\n",
       "mean       5.843333     3.057333      3.758000     1.199333\n",
       "std        0.828066     0.435866      1.765298     0.762238\n",
       "min        4.300000     2.000000      1.000000     0.100000\n",
       "25%        5.100000     2.800000      1.600000     0.300000\n",
       "50%        5.800000     3.000000      4.350000     1.300000\n",
       "75%        6.400000     3.300000      5.100000     1.800000\n",
       "max        7.900000     4.400000      6.900000     2.500000"
      ]
     },
     "execution_count": 5,
     "metadata": {},
     "output_type": "execute_result"
    }
   ],
   "source": [
    "df.describe() # Een overzicht van de statistische gegevens voor de numerieke kolommen."
   ]
  },
  {
   "cell_type": "markdown",
   "metadata": {},
   "source": [
    "Pfoe... Dat zijn veel getallen! Wat betekent dit nu allemaal? \n",
    "\n",
    "Nou. als we kijken naar de linker kolom dan zien we 8 verschillende variabelen: \n",
    "* **count** staat voor het aantal waarden in de kolom. Aangezien we geen missende waarden hebben is deze gelijk aan het aantal rijen van de dataset.\n",
    "* **mean** hebben we al eerder gezien. Het gemiddelde\n",
    "* **std** staat voor standard deviation of, in het Nederlands, de standaard deviatie. Het vertelt ons wat over hoever de waarden in de dataset gemiddeld van de gemiddelde waarden af liggen, ofwel de variatie.\n",
    "* vervolgens hebben we nog **min, 25%, 50%, 75%** en **max**. Dit zijn het minimum, het maximum en de drie getallen die de waarden in 4 gelijke delen snijden, de kwartielen. We zien bijvoorbeeld dat 75 procent van de sepal.length waarden onder de 6.4 liggen en de overige 25 procent liggen tussen 6.4 en 7.9 in."
   ]
  },
  {
   "cell_type": "code",
   "execution_count": 6,
   "metadata": {
    "scrolled": true
   },
   "outputs": [
    {
     "data": {
      "text/html": [
       "<div>\n",
       "<style scoped>\n",
       "    .dataframe tbody tr th:only-of-type {\n",
       "        vertical-align: middle;\n",
       "    }\n",
       "\n",
       "    .dataframe tbody tr th {\n",
       "        vertical-align: top;\n",
       "    }\n",
       "\n",
       "    .dataframe thead th {\n",
       "        text-align: right;\n",
       "    }\n",
       "</style>\n",
       "<table border=\"1\" class=\"dataframe\">\n",
       "  <thead>\n",
       "    <tr style=\"text-align: right;\">\n",
       "      <th></th>\n",
       "      <th>variety</th>\n",
       "    </tr>\n",
       "  </thead>\n",
       "  <tbody>\n",
       "    <tr>\n",
       "      <th>count</th>\n",
       "      <td>150</td>\n",
       "    </tr>\n",
       "    <tr>\n",
       "      <th>unique</th>\n",
       "      <td>3</td>\n",
       "    </tr>\n",
       "    <tr>\n",
       "      <th>top</th>\n",
       "      <td>Versicolor</td>\n",
       "    </tr>\n",
       "    <tr>\n",
       "      <th>freq</th>\n",
       "      <td>50</td>\n",
       "    </tr>\n",
       "  </tbody>\n",
       "</table>\n",
       "</div>"
      ],
      "text/plain": [
       "           variety\n",
       "count          150\n",
       "unique           3\n",
       "top     Versicolor\n",
       "freq            50"
      ]
     },
     "execution_count": 6,
     "metadata": {},
     "output_type": "execute_result"
    }
   ],
   "source": [
    "df.describe(include='object') # Een overzicht van de statistische gegevens voor de numerieke kolommen."
   ]
  },
  {
   "cell_type": "markdown",
   "metadata": {},
   "source": [
    "Maar al deze getallen zijn een beetje saai en onoverzichtelijk. Zou het niet fijn zijn als we er een plaatje van zouden kunnen maken? Nou dat kan!"
   ]
  },
  {
   "cell_type": "markdown",
   "metadata": {},
   "source": [
    "# Data Visualisatie\n",
    "Eerst zullen we nog twee extra libraries moeten importeren."
   ]
  },
  {
   "cell_type": "code",
   "execution_count": 7,
   "metadata": {},
   "outputs": [],
   "source": [
    "from matplotlib import pyplot as plt # Een librarie voor visualisatie\n",
    "\n",
    "%matplotlib inline  \n",
    "# Dit zorgt ervoor dat de plaatjes netjes in het Notebook geprint worden\n",
    "\n",
    "import seaborn as sns # Nog een librarie voor visualisatie"
   ]
  },
  {
   "cell_type": "code",
   "execution_count": 8,
   "metadata": {
    "scrolled": true
   },
   "outputs": [
    {
     "data": {
      "image/png": "[encoded data removed]",
      "text/plain": [
       "<Figure size 432x288 with 4 Axes>"
      ]
     },
     "metadata": {
      "needs_background": "light"
     },
     "output_type": "display_data"
    }
   ],
   "source": [
    "df.hist() # Maak een histogram van alle numerieke velden.\n",
    "plt.show() # Voorkomt wat irritante overbodige textuele output, optioneel."
   ]
  },
  {
   "cell_type": "code",
   "execution_count": 9,
   "metadata": {},
   "outputs": [],
   "source": [
    "%matplotlib inline"
   ]
  },
  {
   "cell_type": "code",
   "execution_count": 10,
   "metadata": {},
   "outputs": [
    {
     "data": {
      "image/png": "[encoded data removed]",
      "text/plain": [
       "<Figure size 432x288 with 4 Axes>"
      ]
     },
     "metadata": {
      "needs_background": "light"
     },
     "output_type": "display_data"
    }
   ],
   "source": [
    "df.hist() # Maak een histogram van alle numerieke velden.\n",
    "plt.show() # Voorkomt wat irritante overbodige textuele output, optioneel."
   ]
  },
  {
   "cell_type": "markdown",
   "metadata": {},
   "source": [
    "Okè, niet het meest visueel bevredigende plaatje, maar het geeft ons toch heel wat informatie. Het is mogelijk om dit plaatje wat verder op te fleuren, maar dat valt buiten de scope van deze tutorial. \n",
    "\n",
    "We hebben nu onze numerieke kolommen gevisualiseerd, maar wat van de categorische kolom, variety, dan? Nou, daar kunnen we een bijvoorbeeld een staafdiagram voor maken met seaborn."
   ]
  },
  {
   "cell_type": "code",
   "execution_count": 11,
   "metadata": {},
   "outputs": [
    {
     "data": {
      "image/png": "[encoded data removed]",
      "text/plain": [
       "<Figure size 432x288 with 1 Axes>"
      ]
     },
     "metadata": {
      "needs_background": "light"
     },
     "output_type": "display_data"
    }
   ],
   "source": [
    "sns.countplot(data=df, y='variety') # Maak een staafdiagram van de 'variety' kolom met de countplot functie van seaborn (sns)\n",
    "plt.show()"
   ]
  },
  {
   "cell_type": "markdown",
   "metadata": {},
   "source": [
    "Hmmm... Het lijkt er op dat alle drie varianten even vaak voorkomen. Zouden we dit op de een of andere manier kunnen controleren?"
   ]
  },
  {
   "cell_type": "code",
   "execution_count": 12,
   "metadata": {
    "scrolled": true
   },
   "outputs": [
    {
     "data": {
      "text/plain": [
       "Versicolor    50\n",
       "Setosa        50\n",
       "Virginica     50\n",
       "Name: variety, dtype: int64"
      ]
     },
     "execution_count": 12,
     "metadata": {},
     "output_type": "execute_result"
    }
   ],
   "source": [
    "df.variety.value_counts() # Creeër een overzicht van de frequenties van de waarden binnen de 'variety' kolom"
   ]
  },
  {
   "cell_type": "markdown",
   "metadata": {},
   "source": [
    "Inderdaad. 50 per stuk. We hadden dit trouwens ook anders kunnen doen."
   ]
  },
  {
   "cell_type": "code",
   "execution_count": 13,
   "metadata": {},
   "outputs": [
    {
     "data": {
      "text/plain": [
       "Versicolor    50\n",
       "Setosa        50\n",
       "Virginica     50\n",
       "Name: variety, dtype: int64"
      ]
     },
     "execution_count": 13,
     "metadata": {},
     "output_type": "execute_result"
    }
   ],
   "source": [
    "df['variety'].value_counts() # Creeër een overzicht van de frequenties van de waarden binnen de 'variety' kolom"
   ]
  },
  {
   "cell_type": "markdown",
   "metadata": {},
   "source": [
    "Deze regel doet precies hetzelfde, maar we selecteren op een andere manier de variety kolom. Deze manier heeft het voordeel dat we onze kolomwaarde als tekstvariabele kunnen invoeren. Misschien dat je zelf al kunt raden waarom dit nuttig zou zijn? \n",
    "\n",
    "Zo niet, probeer dan bijvoorbeeld eens de eerste 5 waarden van de sepal.length variabele te weergeven in het vak hieronder."
   ]
  },
  {
   "cell_type": "code",
   "execution_count": 14,
   "metadata": {},
   "outputs": [],
   "source": [
    "# Laat de eerste waarden van de sepal.length kolom zien"
   ]
  },
  {
   "cell_type": "markdown",
   "metadata": {},
   "source": [
    "En dat is alles.\n",
    "\n",
    "Iets gelezen hebben en denken dat je het snapt is echter niet hetzelfde als iets geleerd hebben. Alleen door het zelf te doen kom je er achter of je de informatie ECHT begrepen hebt, en of je het ook zelf kan reproduceren.\n",
    "\n",
    "In deze folder staat daarom nog een dataset genaamd **Titanic.csv**. Open het bestand in en volg de instructies om je eigen data analyse uit te voeren! Probeer zoveel mogelijk uit je hoofd te doen en kijk alleen terug als je er niet uit komt. \n",
    "\n",
    "Dit zal in het begin vrij vaak zijn. Dat is normaal. Maar op deze manier leer je het snelst en weet je waar je gaten zitten. \n",
    "\n",
    "Succes!"
   ]
  },
  {
   "cell_type": "markdown",
   "metadata": {},
   "source": [
    "### Jouw beurt!"
   ]
  },
  {
   "cell_type": "markdown",
   "metadata": {},
   "source": [
    "Kom je er niet uit of juist wel en wil je je antwoorden controleren? De antwoorden staan in Antwoorden.ipynb. Maar eerst zelf proberen natuurlijk, anders heeft het weinig zin."
   ]
  },
  {
   "cell_type": "code",
   "execution_count": 15,
   "metadata": {
    "scrolled": true
   },
   "outputs": [],
   "source": [
    "# Laad het bestand Titanic.csv als DataFrame en noem het 'titanic' in plaats van 'df'"
   ]
  },
  {
   "cell_type": "code",
   "execution_count": 16,
   "metadata": {},
   "outputs": [],
   "source": [
    "# Laat de eerste 5 rijen zien ter controle"
   ]
  },
  {
   "cell_type": "code",
   "execution_count": 17,
   "metadata": {},
   "outputs": [],
   "source": [
    "# Laat alleen de eerste 5 waarden van de y kolom zien"
   ]
  },
  {
   "cell_type": "code",
   "execution_count": 18,
   "metadata": {},
   "outputs": [],
   "source": [
    "# Geef het gemiddelde van de y kolom. Wat betekent dit?"
   ]
  },
  {
   "cell_type": "code",
   "execution_count": 19,
   "metadata": {
    "scrolled": true
   },
   "outputs": [],
   "source": [
    "# Maak een histogram voor alle numerieke variabelen"
   ]
  },
  {
   "cell_type": "code",
   "execution_count": 20,
   "metadata": {},
   "outputs": [],
   "source": [
    "# Maak een countplot voor de PClass kolom"
   ]
  },
  {
   "cell_type": "markdown",
   "metadata": {},
   "source": [
    "Gefeliciteerd! \n",
    "\n",
    "Je heb je eerste stap gezet in de wereld van Data Science en Machine Learning. \n",
    "\n",
    "Ga zo door!"
   ]
  }
 ],
 "metadata": {
  "kernelspec": {
   "display_name": "Python 3",
   "language": "python",
   "name": "python3"
  },
  "language_info": {
   "codemirror_mode": {
    "name": "ipython",
    "version": 3
   },
   "file_extension": ".py",
   "mimetype": "text/x-python",
   "name": "python",
   "nbconvert_exporter": "python",
   "pygments_lexer": "ipython3",
   "version": "3.7.0"
  }
 },
 "nbformat": 4,
 "nbformat_minor": 2
}
